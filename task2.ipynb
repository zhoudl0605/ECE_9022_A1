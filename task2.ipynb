{
 "cells": [
  {
   "cell_type": "code",
   "execution_count": 51,
   "id": "be27482d-0c41-49f3-aee8-40013ec101f6",
   "metadata": {},
   "outputs": [
    {
     "name": "stdout",
     "output_type": "stream",
     "text": [
      "cpu\n",
      "torch.Size([1, 28, 28])\n",
      "torch.Size([1, 28, 28])\n"
     ]
    },
    {
     "name": "stderr",
     "output_type": "stream",
     "text": [
      "Processing Batches: 100%|██████████| 469/469 [00:54<00:00,  8.63batch/s]\n",
      "Epoch 1/10: 100%|██████████| 3750/3750 [01:52<00:00, 33.40it/s]\n"
     ]
    },
    {
     "name": "stdout",
     "output_type": "stream",
     "text": [
      "Epoch [1/10], Step [3750/3750], Loss: 0.9027777314186096\n"
     ]
    },
    {
     "name": "stderr",
     "output_type": "stream",
     "text": [
      "Epoch 2/10: 100%|██████████| 3750/3750 [02:09<00:00, 28.85it/s]\n"
     ]
    },
    {
     "name": "stdout",
     "output_type": "stream",
     "text": [
      "Epoch [2/10], Step [3750/3750], Loss: 0.972222089767456\n"
     ]
    },
    {
     "name": "stderr",
     "output_type": "stream",
     "text": [
      "Epoch 3/10: 100%|██████████| 3750/3750 [02:10<00:00, 28.84it/s]\n"
     ]
    },
    {
     "name": "stdout",
     "output_type": "stream",
     "text": [
      "Epoch [3/10], Step [3750/3750], Loss: 0.9027776122093201\n"
     ]
    },
    {
     "name": "stderr",
     "output_type": "stream",
     "text": [
      "Epoch 4/10: 100%|██████████| 3750/3750 [02:09<00:00, 28.86it/s]\n"
     ]
    },
    {
     "name": "stdout",
     "output_type": "stream",
     "text": [
      "Epoch [4/10], Step [3750/3750], Loss: 1.111111044883728\n"
     ]
    },
    {
     "name": "stderr",
     "output_type": "stream",
     "text": [
      "Epoch 5/10: 100%|██████████| 3750/3750 [02:10<00:00, 28.83it/s]\n"
     ]
    },
    {
     "name": "stdout",
     "output_type": "stream",
     "text": [
      "Epoch [5/10], Step [3750/3750], Loss: 0.9027777314186096\n"
     ]
    },
    {
     "name": "stderr",
     "output_type": "stream",
     "text": [
      "Epoch 6/10: 100%|██████████| 3750/3750 [02:10<00:00, 28.77it/s]\n"
     ]
    },
    {
     "name": "stdout",
     "output_type": "stream",
     "text": [
      "Epoch [6/10], Step [3750/3750], Loss: 0.9722221493721008\n"
     ]
    },
    {
     "name": "stderr",
     "output_type": "stream",
     "text": [
      "Epoch 7/10: 100%|██████████| 3750/3750 [02:10<00:00, 28.81it/s]\n"
     ]
    },
    {
     "name": "stdout",
     "output_type": "stream",
     "text": [
      "Epoch [7/10], Step [3750/3750], Loss: 1.0416665077209473\n"
     ]
    },
    {
     "name": "stderr",
     "output_type": "stream",
     "text": [
      "Epoch 8/10: 100%|██████████| 3750/3750 [02:09<00:00, 28.85it/s]\n"
     ]
    },
    {
     "name": "stdout",
     "output_type": "stream",
     "text": [
      "Epoch [8/10], Step [3750/3750], Loss: 1.111111044883728\n"
     ]
    },
    {
     "name": "stderr",
     "output_type": "stream",
     "text": [
      "Epoch 9/10: 100%|██████████| 3750/3750 [02:10<00:00, 28.78it/s]\n"
     ]
    },
    {
     "name": "stdout",
     "output_type": "stream",
     "text": [
      "Epoch [9/10], Step [3750/3750], Loss: 0.972222089767456\n"
     ]
    },
    {
     "name": "stderr",
     "output_type": "stream",
     "text": [
      "Epoch 10/10: 100%|██████████| 3750/3750 [02:10<00:00, 28.77it/s]"
     ]
    },
    {
     "name": "stdout",
     "output_type": "stream",
     "text": [
      "Epoch [10/10], Step [3750/3750], Loss: 1.0416665077209473\n"
     ]
    },
    {
     "name": "stderr",
     "output_type": "stream",
     "text": [
      "\n"
     ]
    }
   ],
   "source": [
    "# import libraries\n",
    "import torchvision\n",
    "import torch\n",
    "import cv2\n",
    "import numpy as np\n",
    "import torchvision.transforms as transforms\n",
    "from tqdm import tqdm\n",
    "import torch.nn as nn\n",
    "\n",
    "print(device)\n",
    "# prepare dataset\n",
    "trainDataset = torchvision.datasets.FashionMNIST(\n",
    "    root='./data',\n",
    "    train=True,\n",
    "    download=True,\n",
    "    transform=torchvision.transforms.ToTensor()\n",
    ")\n",
    "\n",
    "testDataset = torchvision.datasets.FashionMNIST(\n",
    "    root='./data',\n",
    "    train=False,\n",
    "    download=True,\n",
    "    transform=torchvision.transforms.ToTensor()\n",
    ")\n",
    "\n",
    "# Confirm they are in grayscale (they should already be).\n",
    "# should be [1, 28, 28], 1 channel, 28x28 pixels (grayscale)\n",
    "print(trainDataset[0][0].shape)\n",
    "print(testDataset[0][0].shape)\n",
    "def siftFeatureDetector(image):\n",
    "    sift = cv2.SIFT_create()\n",
    "    image = (image * 255).astype(np.uint8)\n",
    "    keypoints, descriptors = sift.detectAndCompute(image, None)\n",
    "    return keypoints, descriptors\n",
    "def normalizeImage(image):\n",
    "    image = image.view(-1, 28 * 28)  \n",
    "    return (image - 0.5) / 0.5  \n",
    "def extraDescriptorsAndLabels(dataSet, batch_size=128):\n",
    "    train_loader = torch.utils.data.DataLoader(\n",
    "        dataSet, batch_size=batch_size, shuffle=False)\n",
    "\n",
    "    all_descriptors = []\n",
    "    all_labels = []\n",
    "\n",
    "    # use tqdm to show progress bar\n",
    "    for batch in tqdm(train_loader, desc=\"Processing Batches\", unit=\"batch\"):\n",
    "        images, labels = batch\n",
    "        images = images.squeeze().numpy()\n",
    "        for image in images:\n",
    "            keypoints, descriptors = siftFeatureDetector(image)\n",
    "            all_descriptors.append(descriptors)\n",
    "            all_labels.append(labels)\n",
    "    # verify that the descriptors and the labels are being stored correctly\n",
    "    if len(all_descriptors) == len(all_labels) and len(all_descriptors) == len(dataSet):\n",
    "        return all_descriptors, all_labels\n",
    "    else:\n",
    "        print(\"Error: descriptors and labels are not the same length\")\n",
    "        return None\n",
    "def siftFeatureDetector(image):\n",
    "    sift = cv2.SIFT_create()\n",
    "    image = (image * 255).astype(np.uint8)  \n",
    "    keypoints, descriptors = sift.detectAndCompute(image, None)\n",
    "    return keypoints, descriptors if descriptors is not None else np.array([])\n",
    "\n",
    "def extraDescriptorsAndLabels(dataSet, batch_size=128):\n",
    "    train_loader = torch.utils.data.DataLoader(\n",
    "        dataSet, batch_size=batch_size, shuffle=False)\n",
    "\n",
    "    all_descriptors = []\n",
    "    all_labels = []\n",
    "\n",
    "    # use tqdm to show progress bar\n",
    "    for batch in tqdm(train_loader, desc=\"Processing Batches\", unit=\"batch\"):\n",
    "        images, labels = batch\n",
    "        images = images.squeeze().numpy()\n",
    "        for image in images:\n",
    "            keypoints, descriptors = siftFeatureDetector(image)\n",
    "            all_descriptors.append(descriptors)\n",
    "            all_labels.append(labels)\n",
    "    # verify that the descriptors and the labels are being stored correctly\n",
    "    if len(all_descriptors) == len(all_labels) and len(all_descriptors) == len(dataSet):\n",
    "        return all_descriptors, all_labels\n",
    "    else:\n",
    "        print(\"Error: descriptors and labels are not the same length\")\n",
    "        return None\n",
    "# get descriptors and labels\n",
    "train_descriptors, train_labels = extraDescriptorsAndLabels(trainDataset)\n",
    "class Task1_MLP(nn.Module):\n",
    "    def __init__(self, input_dim=28 * 28, hidden_dim1=256, hidden_dim2=128, output_dim=10):\n",
    "        super(Task1_MLP, self).__init__()\n",
    "        self.fc1 = nn.Linear(input_dim, hidden_dim1)  \n",
    "        self.relu1 = nn.ReLU()\n",
    "        self.fc2 = nn.Linear(hidden_dim1, hidden_dim2)  \n",
    "        self.relu2 = nn.ReLU()\n",
    "        self.fc3 = nn.Linear(hidden_dim2, output_dim)  \n",
    "        self.softmax = nn.Softmax(dim=1)\n",
    "    def forward(self, x):\n",
    "        x = normalizeImage(x)  \n",
    "        x = self.fc1(x)\n",
    "        x = self.relu1(x)\n",
    "        x = self.fc2(x)\n",
    "        x = self.relu2(x)\n",
    "        x = self.fc3(x)\n",
    "        return self.softmax(x)\n",
    "def to_one_hot(labels, num_classes=10):\n",
    "    return torch.nn.functional.one_hot(labels, num_classes=num_classes).float()\n",
    "#class RMSELoss(nn.Module):\n",
    "    #def __init__(self):\n",
    "        #super(RMSELoss, self).__init__()\n",
    "\n",
    "    #def forward(self, y_pred, y_true):\n",
    "        #return torch.sqrt(torch.mean((y_pred - y_true) ** 2))  \n",
    "\n",
    "class RAELoss(nn.Module):\n",
    "    def __init__(self, eps=1e-8):\n",
    "        super(RAELoss, self).__init__()\n",
    "        self.eps = eps  \n",
    "\n",
    "    def forward(self, y_pred, y_true):\n",
    "        abs_error = torch.abs(y_pred - y_true)  \n",
    "        mean_abs_error = torch.mean(abs_error)  \n",
    "        denominator = torch.mean(torch.abs(y_true - torch.mean(y_true))) + self.eps  \n",
    "        return mean_abs_error / denominator  \n",
    "\n",
    "# convert 28*28 image to 784-dim vector\n",
    "def imageToVector(image):\n",
    "    return image.view(-1, 28 * 28)\n",
    "\n",
    "\n",
    "# train the model\n",
    "model = Task1_MLP().to(device)\n",
    "\n",
    "# define loss function and optimizer\n",
    "#criterion = RMSELoss()\n",
    "criterion = RAELoss()\n",
    "optimizer = torch.optim.Adam(model.parameters(), lr=0.1)\n",
    "\n",
    "# train the model\n",
    "num_epochs = 10\n",
    "batch_size = 16\n",
    "train_loader = torch.utils.data.DataLoader(\n",
    "    trainDataset, batch_size=batch_size, shuffle=True)\n",
    "\n",
    "for epoch in range(num_epochs):\n",
    "    loop = tqdm(enumerate(train_loader), total=len(\n",
    "        train_loader), desc=f\"Epoch {epoch+1}/{num_epochs}\")\n",
    "\n",
    "    for i, (images, labels) in loop:\n",
    "        images = images.to(device)\n",
    "        labels = to_one_hot(labels)\n",
    "\n",
    "        # forward pass\n",
    "        outputs = model(imageToVector(images))\n",
    "        loss = criterion(outputs, labels)\n",
    "\n",
    "        # backward pass and optimize\n",
    "        optimizer.zero_grad()\n",
    "        loss.backward()\n",
    "        optimizer.step()\n",
    "\n",
    "        if (i + 1) == loop.total:\n",
    "            print(\n",
    "                f'Epoch [{epoch + 1}/{num_epochs}], Step [{i + 1}/{len(train_loader)}], Loss: {loss.item()}')"
   ]
  },
  {
   "cell_type": "code",
   "execution_count": 52,
   "id": "09bf2f36-20ad-4ef7-8fd0-6da7f778da05",
   "metadata": {},
   "outputs": [],
   "source": [
    "def evaluate_model(model, data_loader, dataset_name=\"Test Set\"):\n",
    "    model.eval()\n",
    "    correct, total = 0, 0\n",
    "\n",
    "    with torch.no_grad():\n",
    "        for images, labels in data_loader:\n",
    "            images, labels = images.to(device), labels.to(device)\n",
    "            outputs = model(imageToVector(images))\n",
    "            _, predicted = torch.max(outputs, 1)\n",
    "            total += labels.size(0)\n",
    "            correct += (predicted == labels).sum().item()\n",
    "\n",
    "    accuracy = 100 * correct / total\n",
    "    print(f\"{dataset_name} Accuracy: {accuracy:.2f}%\")\n",
    "    return accuracy"
   ]
  },
  {
   "cell_type": "code",
   "execution_count": 53,
   "id": "cce48188-2d12-4201-924e-110ce21a9054",
   "metadata": {},
   "outputs": [
    {
     "name": "stdout",
     "output_type": "stream",
     "text": [
      "Training Set Accuracy: 10.00%\n",
      "Test Set Accuracy: 10.00%\n"
     ]
    },
    {
     "data": {
      "text/plain": [
       "10.0"
      ]
     },
     "execution_count": 53,
     "metadata": {},
     "output_type": "execute_result"
    }
   ],
   "source": [
    "test_loader = torch.utils.data.DataLoader(testDataset, batch_size=batch_size, shuffle=False)\n",
    "evaluate_model(model, train_loader, \"Training Set\")\n",
    "evaluate_model(model, test_loader, \"Test Set\")"
   ]
  }
 ],
 "metadata": {
  "kernelspec": {
   "display_name": "assignment_1",
   "language": "python",
   "name": "python3"
  },
  "language_info": {
   "codemirror_mode": {
    "name": "ipython",
    "version": 3
   },
   "file_extension": ".py",
   "mimetype": "text/x-python",
   "name": "python",
   "nbconvert_exporter": "python",
   "pygments_lexer": "ipython3",
   "version": "3.11.11"
  }
 },
 "nbformat": 4,
 "nbformat_minor": 5
}
