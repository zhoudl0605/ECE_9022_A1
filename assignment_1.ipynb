{
 "cells": [
  {
   "cell_type": "code",
   "execution_count": 2,
   "metadata": {},
   "outputs": [],
   "source": [
    "# import libraries\n",
    "import torchvision\n",
    "import torch\n",
    "import cv2\n",
    "import numpy as np\n",
    "import torchvision.transforms as transforms\n",
    "from tqdm import tqdm\n",
    "import torch.nn as nn\n",
    "import matplotlib.pyplot as plt\n",
    "from sklearn.cluster import KMeans\n",
    "from sklearn.metrics import silhouette_score\n",
    "from sklearn.preprocessing import normalize"
   ]
  },
  {
   "cell_type": "code",
   "execution_count": 3,
   "metadata": {},
   "outputs": [
    {
     "name": "stdout",
     "output_type": "stream",
     "text": [
      "mps\n"
     ]
    }
   ],
   "source": [
    "# check device\n",
    "device = torch.device('cuda:0' if torch.cuda.is_available() else 'cpu')\n",
    "device = torch.device(\"mps\" if torch.backends.mps.is_available() else device)\n",
    "\n",
    "print(device)"
   ]
  },
  {
   "cell_type": "code",
   "execution_count": 4,
   "metadata": {},
   "outputs": [
    {
     "name": "stdout",
     "output_type": "stream",
     "text": [
      "torch.Size([1, 28, 28])\n",
      "torch.Size([1, 28, 28])\n"
     ]
    }
   ],
   "source": [
    "# prepare dataset\n",
    "trainDataset = torchvision.datasets.FashionMNIST(\n",
    "    root='./data',\n",
    "    train=True,\n",
    "    download=True,\n",
    "    transform=torchvision.transforms.ToTensor()\n",
    ")\n",
    "\n",
    "testDataset = torchvision.datasets.FashionMNIST(\n",
    "    root='./data',\n",
    "    train=False,\n",
    "    download=True,\n",
    "    transform=torchvision.transforms.ToTensor()\n",
    ")\n",
    "\n",
    "# Confirm they are in grayscale (they should already be).\n",
    "# should be [1, 28, 28], 1 channel, 28x28 pixels (grayscale)\n",
    "print(trainDataset[0][0].shape)\n",
    "print(testDataset[0][0].shape)"
   ]
  },
  {
   "cell_type": "code",
   "execution_count": 5,
   "metadata": {},
   "outputs": [],
   "source": [
    "def siftFeatureDetector(image):\n",
    "    sift = cv2.SIFT_create()\n",
    "    image = (image * 255).astype(np.uint8)\n",
    "    _, descriptors = sift.detectAndCompute(image, None)\n",
    "\n",
    "    if descriptors is None:\n",
    "        return np.array([])\n",
    "    return descriptors"
   ]
  },
  {
   "cell_type": "code",
   "execution_count": 6,
   "metadata": {},
   "outputs": [],
   "source": [
    "def extraDescriptorsAndLabels(dataSet, batch_size=128):\n",
    "    data_loader = torch.utils.data.DataLoader(\n",
    "        dataSet, batch_size=batch_size, shuffle=False)\n",
    "\n",
    "    all_descriptors = []\n",
    "    all_labels = []\n",
    "\n",
    "    # use tqdm to show progress bar\n",
    "    for images, labels in tqdm(data_loader, desc=\"Processing Batches\", unit=\"batch\"):\n",
    "        images = images.numpy()\n",
    "        labels = labels.numpy()\n",
    "        \n",
    "        for image, label in zip(images, labels):\n",
    "            image = image.squeeze(0)\n",
    "            \n",
    "            descriptors = siftFeatureDetector(image)\n",
    "            if len(descriptors) > 0:\n",
    "                all_descriptors.append(descriptors)\n",
    "                all_labels.append(label)\n",
    "                \n",
    "    # verify that the descriptors and the labels are being stored correctly\n",
    "    if len(all_descriptors) == len(all_labels):\n",
    "        all_descriptors = np.vstack(all_descriptors) \n",
    "        return all_descriptors, all_labels\n",
    "    else:\n",
    "        print(\"Error: descriptors and labels are not the same length\")\n",
    "        return None"
   ]
  },
  {
   "cell_type": "code",
   "execution_count": 7,
   "metadata": {},
   "outputs": [],
   "source": [
    "class Task1_MLP(nn.Module):\n",
    "    def __init__(self, input_dim=72, hidden_dim=128, output_dim=10):\n",
    "        super(Task1_MLP, self).__init__()\n",
    "        \n",
    "        self.fc1 = nn.Linear(input_dim, hidden_dim, kernel_size=3, stride=1, padding=1)\n",
    "        self.relu = nn.ReLU()\n",
    "        self.fc2 = nn.Linear(hidden_dim, output_dim)\n",
    "        \n",
    "    def forward(self, x):\n",
    "        x = self.fc1(x)\n",
    "        x = self.relu(x)\n",
    "        x = self.fc2(x)\n",
    "        \n",
    "        return x"
   ]
  },
  {
   "cell_type": "code",
   "execution_count": 8,
   "metadata": {},
   "outputs": [
    {
     "name": "stderr",
     "output_type": "stream",
     "text": [
      "Processing Batches: 100%|██████████| 469/469 [00:19<00:00, 23.71batch/s]\n",
      "Processing Batches: 100%|██████████| 79/79 [00:03<00:00, 24.41batch/s]\n"
     ]
    }
   ],
   "source": [
    "# task 1\n",
    "# 1. SIFT Feature Extraction\n",
    "#  1.1 Apply the SIFT feature detector to each image\n",
    "train_descriptors, train_labels = extraDescriptorsAndLabels(trainDataset)\n",
    "test_descriptors, test_labels = extraDescriptorsAndLabels(testDataset)\n",
    "train_descriptors = normalize(train_descriptors, axis=1)\n",
    "test_descriptors = normalize(test_descriptors, axis=1)"
   ]
  },
  {
   "cell_type": "code",
   "execution_count": 9,
   "metadata": {},
   "outputs": [
    {
     "name": "stdout",
     "output_type": "stream",
     "text": [
      "trainnig feature shape: (241390, 128)\n"
     ]
    }
   ],
   "source": [
    "#  1.2 Obtain a suitable representation of the SIFT descriptors as we learned in the class\n",
    "# use the K-means clustering algorithm to cluster the descriptors\n",
    "# convert the descriptors to visual words\n",
    "valid_descriptors = [d for d in train_descriptors if d is not None and len(d) > 0]        \n",
    "features = np.vstack(valid_descriptors)\n",
    "print(f\"trainnig feature shape: {features.shape}\")  # (num_descriptors, 128)"
   ]
  },
  {
   "cell_type": "code",
   "execution_count": 10,
   "metadata": {},
   "outputs": [
    {
     "name": "stderr",
     "output_type": "stream",
     "text": [
      "calculate Inertia:  40%|████      | 16/40 [05:52<08:49, 22.04s/it]"
     ]
    }
   ],
   "source": [
    "# this step is to determine the number of clusters, but it takes too long to run\n",
    "# and cluster number is determined so we can skip this step\n",
    "if 1:\n",
    "    reduced_amount = 50000\n",
    "    reduced_features = features[:reduced_amount]\n",
    "    silhouette_scores = []\n",
    "    k_values = range(40, 80)\n",
    "\n",
    "    for k in tqdm(k_values, desc=\"calculate Inertia\"):\n",
    "        kmeans = KMeans(n_clusters=k, random_state=0)\n",
    "        labels = kmeans.fit_predict(reduced_features)\n",
    "        score = silhouette_score(reduced_features, labels)\n",
    "        silhouette_scores.append(score)\n",
    "\n",
    "    # draw Silhouette Score curve\n",
    "    plt.figure(figsize=(10, 6))\n",
    "    plt.plot(k_values, silhouette_scores, marker='o', color='orange')\n",
    "    plt.xlabel('k_values')\n",
    "    plt.ylabel('Silhouette Score')\n",
    "    plt.title('Silhouette Score vs. k_values')\n",
    "    plt.grid(True)\n",
    "    plt.show()\n",
    "    # when cluster number is 78 the silhouette score is the highest"
   ]
  },
  {
   "cell_type": "code",
   "execution_count": null,
   "metadata": {},
   "outputs": [
    {
     "ename": "KeyboardInterrupt",
     "evalue": "",
     "output_type": "error",
     "traceback": [
      "\u001b[0;31m---------------------------------------------------------------------------\u001b[0m",
      "\u001b[0;31mKeyboardInterrupt\u001b[0m                         Traceback (most recent call last)",
      "Cell \u001b[0;32mIn[55], line 5\u001b[0m\n\u001b[1;32m      3\u001b[0m reduced_features \u001b[38;5;241m=\u001b[39m np\u001b[38;5;241m.\u001b[39marray(features[:\u001b[38;5;241m500000\u001b[39m])\u001b[38;5;241m.\u001b[39mreshape(\u001b[38;5;241m-\u001b[39m\u001b[38;5;241m1\u001b[39m, \u001b[38;5;241m1\u001b[39m)\n\u001b[1;32m      4\u001b[0m \u001b[38;5;28;01mdel\u001b[39;00m features\n\u001b[0;32m----> 5\u001b[0m \u001b[43mk_means\u001b[49m\u001b[38;5;241;43m.\u001b[39;49m\u001b[43mfit\u001b[49m\u001b[43m(\u001b[49m\u001b[43mreduced_features\u001b[49m\u001b[43m)\u001b[49m\n\u001b[1;32m      7\u001b[0m \u001b[38;5;28mprint\u001b[39m(reduced_features[\u001b[38;5;241m0\u001b[39m])\n\u001b[1;32m      8\u001b[0m test \u001b[38;5;241m=\u001b[39m k_means\u001b[38;5;241m.\u001b[39mpredict(reduced_features[\u001b[38;5;241m0\u001b[39m]\u001b[38;5;241m.\u001b[39mreshape(\u001b[38;5;241m-\u001b[39m\u001b[38;5;241m1\u001b[39m, \u001b[38;5;241m1\u001b[39m))\n",
      "File \u001b[0;32m~/miniconda3/envs/assignment_1/lib/python3.11/site-packages/sklearn/base.py:1389\u001b[0m, in \u001b[0;36m_fit_context.<locals>.decorator.<locals>.wrapper\u001b[0;34m(estimator, *args, **kwargs)\u001b[0m\n\u001b[1;32m   1382\u001b[0m     estimator\u001b[38;5;241m.\u001b[39m_validate_params()\n\u001b[1;32m   1384\u001b[0m \u001b[38;5;28;01mwith\u001b[39;00m config_context(\n\u001b[1;32m   1385\u001b[0m     skip_parameter_validation\u001b[38;5;241m=\u001b[39m(\n\u001b[1;32m   1386\u001b[0m         prefer_skip_nested_validation \u001b[38;5;129;01mor\u001b[39;00m global_skip_validation\n\u001b[1;32m   1387\u001b[0m     )\n\u001b[1;32m   1388\u001b[0m ):\n\u001b[0;32m-> 1389\u001b[0m     \u001b[38;5;28;01mreturn\u001b[39;00m \u001b[43mfit_method\u001b[49m\u001b[43m(\u001b[49m\u001b[43mestimator\u001b[49m\u001b[43m,\u001b[49m\u001b[43m \u001b[49m\u001b[38;5;241;43m*\u001b[39;49m\u001b[43margs\u001b[49m\u001b[43m,\u001b[49m\u001b[43m \u001b[49m\u001b[38;5;241;43m*\u001b[39;49m\u001b[38;5;241;43m*\u001b[39;49m\u001b[43mkwargs\u001b[49m\u001b[43m)\u001b[49m\n",
      "File \u001b[0;32m~/miniconda3/envs/assignment_1/lib/python3.11/site-packages/sklearn/cluster/_kmeans.py:1499\u001b[0m, in \u001b[0;36mKMeans.fit\u001b[0;34m(self, X, y, sample_weight)\u001b[0m\n\u001b[1;32m   1495\u001b[0m best_inertia, best_labels \u001b[38;5;241m=\u001b[39m \u001b[38;5;28;01mNone\u001b[39;00m, \u001b[38;5;28;01mNone\u001b[39;00m\n\u001b[1;32m   1497\u001b[0m \u001b[38;5;28;01mfor\u001b[39;00m i \u001b[38;5;129;01min\u001b[39;00m \u001b[38;5;28mrange\u001b[39m(\u001b[38;5;28mself\u001b[39m\u001b[38;5;241m.\u001b[39m_n_init):\n\u001b[1;32m   1498\u001b[0m     \u001b[38;5;66;03m# Initialize centers\u001b[39;00m\n\u001b[0;32m-> 1499\u001b[0m     centers_init \u001b[38;5;241m=\u001b[39m \u001b[38;5;28;43mself\u001b[39;49m\u001b[38;5;241;43m.\u001b[39;49m\u001b[43m_init_centroids\u001b[49m\u001b[43m(\u001b[49m\n\u001b[1;32m   1500\u001b[0m \u001b[43m        \u001b[49m\u001b[43mX\u001b[49m\u001b[43m,\u001b[49m\n\u001b[1;32m   1501\u001b[0m \u001b[43m        \u001b[49m\u001b[43mx_squared_norms\u001b[49m\u001b[38;5;241;43m=\u001b[39;49m\u001b[43mx_squared_norms\u001b[49m\u001b[43m,\u001b[49m\n\u001b[1;32m   1502\u001b[0m \u001b[43m        \u001b[49m\u001b[43minit\u001b[49m\u001b[38;5;241;43m=\u001b[39;49m\u001b[43minit\u001b[49m\u001b[43m,\u001b[49m\n\u001b[1;32m   1503\u001b[0m \u001b[43m        \u001b[49m\u001b[43mrandom_state\u001b[49m\u001b[38;5;241;43m=\u001b[39;49m\u001b[43mrandom_state\u001b[49m\u001b[43m,\u001b[49m\n\u001b[1;32m   1504\u001b[0m \u001b[43m        \u001b[49m\u001b[43msample_weight\u001b[49m\u001b[38;5;241;43m=\u001b[39;49m\u001b[43msample_weight\u001b[49m\u001b[43m,\u001b[49m\n\u001b[1;32m   1505\u001b[0m \u001b[43m    \u001b[49m\u001b[43m)\u001b[49m\n\u001b[1;32m   1506\u001b[0m     \u001b[38;5;28;01mif\u001b[39;00m \u001b[38;5;28mself\u001b[39m\u001b[38;5;241m.\u001b[39mverbose:\n\u001b[1;32m   1507\u001b[0m         \u001b[38;5;28mprint\u001b[39m(\u001b[38;5;124m\"\u001b[39m\u001b[38;5;124mInitialization complete\u001b[39m\u001b[38;5;124m\"\u001b[39m)\n",
      "File \u001b[0;32m~/miniconda3/envs/assignment_1/lib/python3.11/site-packages/sklearn/cluster/_kmeans.py:1014\u001b[0m, in \u001b[0;36m_BaseKMeans._init_centroids\u001b[0;34m(self, X, x_squared_norms, init, random_state, sample_weight, init_size, n_centroids)\u001b[0m\n\u001b[1;32m   1011\u001b[0m     sample_weight \u001b[38;5;241m=\u001b[39m sample_weight[init_indices]\n\u001b[1;32m   1013\u001b[0m \u001b[38;5;28;01mif\u001b[39;00m \u001b[38;5;28misinstance\u001b[39m(init, \u001b[38;5;28mstr\u001b[39m) \u001b[38;5;129;01mand\u001b[39;00m init \u001b[38;5;241m==\u001b[39m \u001b[38;5;124m\"\u001b[39m\u001b[38;5;124mk-means++\u001b[39m\u001b[38;5;124m\"\u001b[39m:\n\u001b[0;32m-> 1014\u001b[0m     centers, _ \u001b[38;5;241m=\u001b[39m \u001b[43m_kmeans_plusplus\u001b[49m\u001b[43m(\u001b[49m\n\u001b[1;32m   1015\u001b[0m \u001b[43m        \u001b[49m\u001b[43mX\u001b[49m\u001b[43m,\u001b[49m\n\u001b[1;32m   1016\u001b[0m \u001b[43m        \u001b[49m\u001b[43mn_clusters\u001b[49m\u001b[43m,\u001b[49m\n\u001b[1;32m   1017\u001b[0m \u001b[43m        \u001b[49m\u001b[43mrandom_state\u001b[49m\u001b[38;5;241;43m=\u001b[39;49m\u001b[43mrandom_state\u001b[49m\u001b[43m,\u001b[49m\n\u001b[1;32m   1018\u001b[0m \u001b[43m        \u001b[49m\u001b[43mx_squared_norms\u001b[49m\u001b[38;5;241;43m=\u001b[39;49m\u001b[43mx_squared_norms\u001b[49m\u001b[43m,\u001b[49m\n\u001b[1;32m   1019\u001b[0m \u001b[43m        \u001b[49m\u001b[43msample_weight\u001b[49m\u001b[38;5;241;43m=\u001b[39;49m\u001b[43msample_weight\u001b[49m\u001b[43m,\u001b[49m\n\u001b[1;32m   1020\u001b[0m \u001b[43m    \u001b[49m\u001b[43m)\u001b[49m\n\u001b[1;32m   1021\u001b[0m \u001b[38;5;28;01melif\u001b[39;00m \u001b[38;5;28misinstance\u001b[39m(init, \u001b[38;5;28mstr\u001b[39m) \u001b[38;5;129;01mand\u001b[39;00m init \u001b[38;5;241m==\u001b[39m \u001b[38;5;124m\"\u001b[39m\u001b[38;5;124mrandom\u001b[39m\u001b[38;5;124m\"\u001b[39m:\n\u001b[1;32m   1022\u001b[0m     seeds \u001b[38;5;241m=\u001b[39m random_state\u001b[38;5;241m.\u001b[39mchoice(\n\u001b[1;32m   1023\u001b[0m         n_samples,\n\u001b[1;32m   1024\u001b[0m         size\u001b[38;5;241m=\u001b[39mn_clusters,\n\u001b[1;32m   1025\u001b[0m         replace\u001b[38;5;241m=\u001b[39m\u001b[38;5;28;01mFalse\u001b[39;00m,\n\u001b[1;32m   1026\u001b[0m         p\u001b[38;5;241m=\u001b[39msample_weight \u001b[38;5;241m/\u001b[39m sample_weight\u001b[38;5;241m.\u001b[39msum(),\n\u001b[1;32m   1027\u001b[0m     )\n",
      "File \u001b[0;32m~/miniconda3/envs/assignment_1/lib/python3.11/site-packages/sklearn/cluster/_kmeans.py:251\u001b[0m, in \u001b[0;36m_kmeans_plusplus\u001b[0;34m(X, n_clusters, x_squared_norms, sample_weight, random_state, n_local_trials)\u001b[0m\n\u001b[1;32m    248\u001b[0m np\u001b[38;5;241m.\u001b[39mclip(candidate_ids, \u001b[38;5;28;01mNone\u001b[39;00m, closest_dist_sq\u001b[38;5;241m.\u001b[39msize \u001b[38;5;241m-\u001b[39m \u001b[38;5;241m1\u001b[39m, out\u001b[38;5;241m=\u001b[39mcandidate_ids)\n\u001b[1;32m    250\u001b[0m \u001b[38;5;66;03m# Compute distances to center candidates\u001b[39;00m\n\u001b[0;32m--> 251\u001b[0m distance_to_candidates \u001b[38;5;241m=\u001b[39m \u001b[43m_euclidean_distances\u001b[49m\u001b[43m(\u001b[49m\n\u001b[1;32m    252\u001b[0m \u001b[43m    \u001b[49m\u001b[43mX\u001b[49m\u001b[43m[\u001b[49m\u001b[43mcandidate_ids\u001b[49m\u001b[43m]\u001b[49m\u001b[43m,\u001b[49m\u001b[43m \u001b[49m\u001b[43mX\u001b[49m\u001b[43m,\u001b[49m\u001b[43m \u001b[49m\u001b[43mY_norm_squared\u001b[49m\u001b[38;5;241;43m=\u001b[39;49m\u001b[43mx_squared_norms\u001b[49m\u001b[43m,\u001b[49m\u001b[43m \u001b[49m\u001b[43msquared\u001b[49m\u001b[38;5;241;43m=\u001b[39;49m\u001b[38;5;28;43;01mTrue\u001b[39;49;00m\n\u001b[1;32m    253\u001b[0m \u001b[43m\u001b[49m\u001b[43m)\u001b[49m\n\u001b[1;32m    255\u001b[0m \u001b[38;5;66;03m# update closest distances squared and potential for each candidate\u001b[39;00m\n\u001b[1;32m    256\u001b[0m np\u001b[38;5;241m.\u001b[39mminimum(closest_dist_sq, distance_to_candidates, out\u001b[38;5;241m=\u001b[39mdistance_to_candidates)\n",
      "File \u001b[0;32m~/miniconda3/envs/assignment_1/lib/python3.11/site-packages/sklearn/metrics/pairwise.py:429\u001b[0m, in \u001b[0;36m_euclidean_distances\u001b[0;34m(X, Y, X_norm_squared, Y_norm_squared, squared)\u001b[0m\n\u001b[1;32m    426\u001b[0m     distances \u001b[38;5;241m+\u001b[39m\u001b[38;5;241m=\u001b[39m YY\n\u001b[1;32m    428\u001b[0m xp_zero \u001b[38;5;241m=\u001b[39m xp\u001b[38;5;241m.\u001b[39masarray(\u001b[38;5;241m0\u001b[39m, device\u001b[38;5;241m=\u001b[39mdevice_, dtype\u001b[38;5;241m=\u001b[39mdistances\u001b[38;5;241m.\u001b[39mdtype)\n\u001b[0;32m--> 429\u001b[0m distances \u001b[38;5;241m=\u001b[39m \u001b[43m_modify_in_place_if_numpy\u001b[49m\u001b[43m(\u001b[49m\n\u001b[1;32m    430\u001b[0m \u001b[43m    \u001b[49m\u001b[43mxp\u001b[49m\u001b[43m,\u001b[49m\u001b[43m \u001b[49m\u001b[43mxp\u001b[49m\u001b[38;5;241;43m.\u001b[39;49m\u001b[43mmaximum\u001b[49m\u001b[43m,\u001b[49m\u001b[43m \u001b[49m\u001b[43mdistances\u001b[49m\u001b[43m,\u001b[49m\u001b[43m \u001b[49m\u001b[43mxp_zero\u001b[49m\u001b[43m,\u001b[49m\u001b[43m \u001b[49m\u001b[43mout\u001b[49m\u001b[38;5;241;43m=\u001b[39;49m\u001b[43mdistances\u001b[49m\n\u001b[1;32m    431\u001b[0m \u001b[43m\u001b[49m\u001b[43m)\u001b[49m\n\u001b[1;32m    433\u001b[0m \u001b[38;5;66;03m# Ensure that distances between vectors and themselves are set to 0.0.\u001b[39;00m\n\u001b[1;32m    434\u001b[0m \u001b[38;5;66;03m# This may not be the case due to floating point rounding errors.\u001b[39;00m\n\u001b[1;32m    435\u001b[0m \u001b[38;5;28;01mif\u001b[39;00m X \u001b[38;5;129;01mis\u001b[39;00m Y:\n",
      "File \u001b[0;32m~/miniconda3/envs/assignment_1/lib/python3.11/site-packages/sklearn/utils/_array_api.py:1082\u001b[0m, in \u001b[0;36m_modify_in_place_if_numpy\u001b[0;34m(xp, func, out, *args, **kwargs)\u001b[0m\n\u001b[1;32m   1080\u001b[0m \u001b[38;5;28;01mdef\u001b[39;00m\u001b[38;5;250m \u001b[39m\u001b[38;5;21m_modify_in_place_if_numpy\u001b[39m(xp, func, \u001b[38;5;241m*\u001b[39margs, out\u001b[38;5;241m=\u001b[39m\u001b[38;5;28;01mNone\u001b[39;00m, \u001b[38;5;241m*\u001b[39m\u001b[38;5;241m*\u001b[39mkwargs):\n\u001b[1;32m   1081\u001b[0m     \u001b[38;5;28;01mif\u001b[39;00m _is_numpy_namespace(xp):\n\u001b[0;32m-> 1082\u001b[0m         \u001b[43mfunc\u001b[49m\u001b[43m(\u001b[49m\u001b[38;5;241;43m*\u001b[39;49m\u001b[43margs\u001b[49m\u001b[43m,\u001b[49m\u001b[43m \u001b[49m\u001b[43mout\u001b[49m\u001b[38;5;241;43m=\u001b[39;49m\u001b[43mout\u001b[49m\u001b[43m,\u001b[49m\u001b[43m \u001b[49m\u001b[38;5;241;43m*\u001b[39;49m\u001b[38;5;241;43m*\u001b[39;49m\u001b[43mkwargs\u001b[49m\u001b[43m)\u001b[49m\n\u001b[1;32m   1083\u001b[0m     \u001b[38;5;28;01melse\u001b[39;00m:\n\u001b[1;32m   1084\u001b[0m         out \u001b[38;5;241m=\u001b[39m func(\u001b[38;5;241m*\u001b[39margs, \u001b[38;5;241m*\u001b[39m\u001b[38;5;241m*\u001b[39mkwargs)\n",
      "\u001b[0;31mKeyboardInterrupt\u001b[0m: "
     ]
    }
   ],
   "source": [
    "k_clusters = 78\n",
    "k_means = KMeans(n_clusters=k_clusters, random_state=0)\n",
    "reduced_features = np.array(features[:500000]).reshape(-1, 1)\n",
    "del features\n",
    "k_means.fit(reduced_features)\n",
    "\n",
    "print(reduced_features[0])\n",
    "test = k_means.predict(reduced_features[0].reshape(-1, 1))\n",
    "print(test)"
   ]
  },
  {
   "cell_type": "code",
   "execution_count": 15,
   "metadata": {},
   "outputs": [
    {
     "name": "stdout",
     "output_type": "stream",
     "text": [
      "[0.0254447  0.         0.         0.         0.         0.\n",
      " 0.         0.00782914 0.31903738 0.01370099 0.         0.\n",
      " 0.         0.         0.         0.08416323 0.31903738 0.01174371\n",
      " 0.         0.01370099 0.01370099 0.00782914 0.00391457 0.07046224\n",
      " 0.00195728 0.00195728 0.00978642 0.05480397 0.04501754 0.00978642\n",
      " 0.00195728 0.00195728 0.05871854 0.00195728 0.         0.\n",
      " 0.         0.         0.         0.00782914 0.31903738 0.05676125\n",
      " 0.         0.         0.         0.         0.         0.14679635\n",
      " 0.31903738 0.04893211 0.01761556 0.06654768 0.0254447  0.\n",
      " 0.         0.07241952 0.         0.         0.00782914 0.30729365\n",
      " 0.08220595 0.         0.         0.         0.03131655 0.00391457\n",
      " 0.         0.         0.         0.         0.         0.\n",
      " 0.31903738 0.23487414 0.00782914 0.         0.         0.\n",
      " 0.         0.00782914 0.11547979 0.20942944 0.23683143 0.16636918\n",
      " 0.00391457 0.         0.         0.00195728 0.         0.\n",
      " 0.12330893 0.31903738 0.02153013 0.         0.         0.\n",
      " 0.         0.         0.         0.         0.         0.\n",
      " 0.         0.         0.00391457 0.00587185 0.         0.\n",
      " 0.         0.         0.         0.         0.00195728 0.00978642\n",
      " 0.03327384 0.03914569 0.         0.         0.         0.\n",
      " 0.         0.         0.0254447  0.10765065 0.         0.\n",
      " 0.         0.        ]\n",
      "[11 11]\n"
     ]
    }
   ],
   "source": [
    "print(reduced_features[0])\n",
    "test = k_means.predict([reduced_features[0], reduced_features[1]])\n",
    "print(test)"
   ]
  },
  {
   "cell_type": "code",
   "execution_count": 25,
   "metadata": {},
   "outputs": [],
   "source": [
    "def descriptors_to_vector(descriptors, kmeans_model, k_clusters=72):\n",
    "    if descriptors is None or len(descriptors) == 0:\n",
    "        return np.zeros(k_clusters)  # 如果描述符为空，返回全零向量\n",
    "\n",
    "    features = []\n",
    "    for d in descriptors:\n",
    "        if d is None or len(d) == 0:\n",
    "            continue\n",
    "        for descriptor in d:\n",
    "            features.append(d)\n",
    "\n",
    "    # # 保证 descriptors 是二维数组\n",
    "    vectors = np.zeros(k_clusters)\n",
    "    print(type(descriptors))\n",
    "    print(descriptors.shape)\n",
    "    \n",
    "    for descriptor in descriptors[0]:\n",
    "        print(descriptor)\n",
    "    \n",
    "    cluster_labels = kmeans_model.predict(descriptors)\n",
    "    histogram, _ = np.histogram(cluster_labels, bins=np.arange(k_clusters + 1))\n",
    "    histogram = histogram / np.linalg.norm(histogram) if np.linalg.norm(histogram) != 0 else histogram\n",
    "\n",
    "    return histogram\n",
    "    print('----------------------------------------')"
   ]
  },
  {
   "cell_type": "code",
   "execution_count": null,
   "metadata": {},
   "outputs": [
    {
     "name": "stdout",
     "output_type": "stream",
     "text": [
      "<class 'numpy.ndarray'>\n",
      "(5, 128)\n",
      "13.0\n",
      "0.0\n",
      "0.0\n",
      "0.0\n",
      "0.0\n",
      "0.0\n",
      "0.0\n",
      "4.0\n",
      "163.0\n",
      "7.0\n",
      "0.0\n",
      "0.0\n",
      "0.0\n",
      "0.0\n",
      "0.0\n",
      "43.0\n",
      "163.0\n",
      "6.0\n",
      "0.0\n",
      "7.0\n",
      "7.0\n",
      "4.0\n",
      "2.0\n",
      "36.0\n",
      "1.0\n",
      "1.0\n",
      "5.0\n",
      "28.0\n",
      "23.0\n",
      "5.0\n",
      "1.0\n",
      "1.0\n",
      "30.0\n",
      "1.0\n",
      "0.0\n",
      "0.0\n",
      "0.0\n",
      "0.0\n",
      "0.0\n",
      "4.0\n",
      "163.0\n",
      "29.0\n",
      "0.0\n",
      "0.0\n",
      "0.0\n",
      "0.0\n",
      "0.0\n",
      "75.0\n",
      "163.0\n",
      "25.0\n",
      "9.0\n",
      "34.0\n",
      "13.0\n",
      "0.0\n",
      "0.0\n",
      "37.0\n",
      "0.0\n",
      "0.0\n",
      "4.0\n",
      "157.0\n",
      "42.0\n",
      "0.0\n",
      "0.0\n",
      "0.0\n",
      "16.0\n",
      "2.0\n",
      "0.0\n",
      "0.0\n",
      "0.0\n",
      "0.0\n",
      "0.0\n",
      "0.0\n",
      "163.0\n",
      "120.0\n",
      "4.0\n",
      "0.0\n",
      "0.0\n",
      "0.0\n",
      "0.0\n",
      "4.0\n",
      "59.0\n",
      "107.0\n",
      "121.0\n",
      "85.0\n",
      "2.0\n",
      "0.0\n",
      "0.0\n",
      "1.0\n",
      "0.0\n",
      "0.0\n",
      "63.0\n",
      "163.0\n",
      "11.0\n",
      "0.0\n",
      "0.0\n",
      "0.0\n",
      "0.0\n",
      "0.0\n",
      "0.0\n",
      "0.0\n",
      "0.0\n",
      "0.0\n",
      "0.0\n",
      "0.0\n",
      "2.0\n",
      "3.0\n",
      "0.0\n",
      "0.0\n",
      "0.0\n",
      "0.0\n",
      "0.0\n",
      "0.0\n",
      "1.0\n",
      "5.0\n",
      "17.0\n",
      "20.0\n",
      "0.0\n",
      "0.0\n",
      "0.0\n",
      "0.0\n",
      "0.0\n",
      "0.0\n",
      "13.0\n",
      "55.0\n",
      "0.0\n",
      "0.0\n",
      "0.0\n",
      "0.0\n"
     ]
    },
    {
     "ename": "ValueError",
     "evalue": "Buffer dtype mismatch, expected 'const float' but got 'double'",
     "output_type": "error",
     "traceback": [
      "\u001b[0;31m---------------------------------------------------------------------------\u001b[0m",
      "\u001b[0;31mValueError\u001b[0m                                Traceback (most recent call last)",
      "Cell \u001b[0;32mIn[26], line 8\u001b[0m\n\u001b[1;32m      5\u001b[0m plt\u001b[38;5;241m.\u001b[39mimshow(image, cmap\u001b[38;5;241m=\u001b[39m\u001b[38;5;124m'\u001b[39m\u001b[38;5;124mgray\u001b[39m\u001b[38;5;124m'\u001b[39m)\n\u001b[1;32m      7\u001b[0m descriptors \u001b[38;5;241m=\u001b[39m siftFeatureDetector(image)\n\u001b[0;32m----> 8\u001b[0m vector \u001b[38;5;241m=\u001b[39m \u001b[43mdescriptors_to_vector\u001b[49m\u001b[43m(\u001b[49m\u001b[43mdescriptors\u001b[49m\u001b[43m,\u001b[49m\u001b[43m \u001b[49m\u001b[43mk_means\u001b[49m\u001b[43m,\u001b[49m\u001b[43m \u001b[49m\u001b[43mk_clusters\u001b[49m\u001b[43m)\u001b[49m\n\u001b[1;32m      9\u001b[0m \u001b[38;5;66;03m# print(vector)\u001b[39;00m\n",
      "Cell \u001b[0;32mIn[25], line 13\u001b[0m, in \u001b[0;36mdescriptors_to_vector\u001b[0;34m(descriptors, kmeans_model, k_clusters)\u001b[0m\n\u001b[1;32m     10\u001b[0m \u001b[38;5;28;01mfor\u001b[39;00m descriptor \u001b[38;5;129;01min\u001b[39;00m descriptors[\u001b[38;5;241m0\u001b[39m]:\n\u001b[1;32m     11\u001b[0m     \u001b[38;5;28mprint\u001b[39m(descriptor)\n\u001b[0;32m---> 13\u001b[0m cluster_labels \u001b[38;5;241m=\u001b[39m \u001b[43mkmeans_model\u001b[49m\u001b[38;5;241;43m.\u001b[39;49m\u001b[43mpredict\u001b[49m\u001b[43m(\u001b[49m\u001b[43mdescriptors\u001b[49m\u001b[43m)\u001b[49m\n\u001b[1;32m     14\u001b[0m histogram, _ \u001b[38;5;241m=\u001b[39m np\u001b[38;5;241m.\u001b[39mhistogram(cluster_labels, bins\u001b[38;5;241m=\u001b[39mnp\u001b[38;5;241m.\u001b[39marange(k_clusters \u001b[38;5;241m+\u001b[39m \u001b[38;5;241m1\u001b[39m))\n\u001b[1;32m     15\u001b[0m histogram \u001b[38;5;241m=\u001b[39m histogram \u001b[38;5;241m/\u001b[39m np\u001b[38;5;241m.\u001b[39mlinalg\u001b[38;5;241m.\u001b[39mnorm(histogram) \u001b[38;5;28;01mif\u001b[39;00m np\u001b[38;5;241m.\u001b[39mlinalg\u001b[38;5;241m.\u001b[39mnorm(histogram) \u001b[38;5;241m!=\u001b[39m \u001b[38;5;241m0\u001b[39m \u001b[38;5;28;01melse\u001b[39;00m histogram\n",
      "File \u001b[0;32m~/miniconda3/envs/assignment_1/lib/python3.11/site-packages/sklearn/cluster/_kmeans.py:1090\u001b[0m, in \u001b[0;36m_BaseKMeans.predict\u001b[0;34m(self, X)\u001b[0m\n\u001b[1;32m   1087\u001b[0m \u001b[38;5;66;03m# sample weights are not used by predict but cython helpers expect an array\u001b[39;00m\n\u001b[1;32m   1088\u001b[0m sample_weight \u001b[38;5;241m=\u001b[39m np\u001b[38;5;241m.\u001b[39mones(X\u001b[38;5;241m.\u001b[39mshape[\u001b[38;5;241m0\u001b[39m], dtype\u001b[38;5;241m=\u001b[39mX\u001b[38;5;241m.\u001b[39mdtype)\n\u001b[0;32m-> 1090\u001b[0m labels \u001b[38;5;241m=\u001b[39m \u001b[43m_labels_inertia_threadpool_limit\u001b[49m\u001b[43m(\u001b[49m\n\u001b[1;32m   1091\u001b[0m \u001b[43m    \u001b[49m\u001b[43mX\u001b[49m\u001b[43m,\u001b[49m\n\u001b[1;32m   1092\u001b[0m \u001b[43m    \u001b[49m\u001b[43msample_weight\u001b[49m\u001b[43m,\u001b[49m\n\u001b[1;32m   1093\u001b[0m \u001b[43m    \u001b[49m\u001b[38;5;28;43mself\u001b[39;49m\u001b[38;5;241;43m.\u001b[39;49m\u001b[43mcluster_centers_\u001b[49m\u001b[43m,\u001b[49m\n\u001b[1;32m   1094\u001b[0m \u001b[43m    \u001b[49m\u001b[43mn_threads\u001b[49m\u001b[38;5;241;43m=\u001b[39;49m\u001b[38;5;28;43mself\u001b[39;49m\u001b[38;5;241;43m.\u001b[39;49m\u001b[43m_n_threads\u001b[49m\u001b[43m,\u001b[49m\n\u001b[1;32m   1095\u001b[0m \u001b[43m    \u001b[49m\u001b[43mreturn_inertia\u001b[49m\u001b[38;5;241;43m=\u001b[39;49m\u001b[38;5;28;43;01mFalse\u001b[39;49;00m\u001b[43m,\u001b[49m\n\u001b[1;32m   1096\u001b[0m \u001b[43m\u001b[49m\u001b[43m)\u001b[49m\n\u001b[1;32m   1098\u001b[0m \u001b[38;5;28;01mreturn\u001b[39;00m labels\n",
      "File \u001b[0;32m~/miniconda3/envs/assignment_1/lib/python3.11/site-packages/sklearn/utils/parallel.py:165\u001b[0m, in \u001b[0;36m_threadpool_controller_decorator.<locals>.decorator.<locals>.wrapper\u001b[0;34m(*args, **kwargs)\u001b[0m\n\u001b[1;32m    163\u001b[0m controller \u001b[38;5;241m=\u001b[39m _get_threadpool_controller()\n\u001b[1;32m    164\u001b[0m \u001b[38;5;28;01mwith\u001b[39;00m controller\u001b[38;5;241m.\u001b[39mlimit(limits\u001b[38;5;241m=\u001b[39mlimits, user_api\u001b[38;5;241m=\u001b[39muser_api):\n\u001b[0;32m--> 165\u001b[0m     \u001b[38;5;28;01mreturn\u001b[39;00m \u001b[43mfunc\u001b[49m\u001b[43m(\u001b[49m\u001b[38;5;241;43m*\u001b[39;49m\u001b[43margs\u001b[49m\u001b[43m,\u001b[49m\u001b[43m \u001b[49m\u001b[38;5;241;43m*\u001b[39;49m\u001b[38;5;241;43m*\u001b[39;49m\u001b[43mkwargs\u001b[49m\u001b[43m)\u001b[49m\n",
      "File \u001b[0;32m~/miniconda3/envs/assignment_1/lib/python3.11/site-packages/sklearn/cluster/_kmeans.py:806\u001b[0m, in \u001b[0;36m_labels_inertia\u001b[0;34m(X, sample_weight, centers, n_threads, return_inertia)\u001b[0m\n\u001b[1;32m    803\u001b[0m     _labels \u001b[38;5;241m=\u001b[39m lloyd_iter_chunked_dense\n\u001b[1;32m    804\u001b[0m     _inertia \u001b[38;5;241m=\u001b[39m _inertia_dense\n\u001b[0;32m--> 806\u001b[0m \u001b[43m_labels\u001b[49m\u001b[43m(\u001b[49m\n\u001b[1;32m    807\u001b[0m \u001b[43m    \u001b[49m\u001b[43mX\u001b[49m\u001b[43m,\u001b[49m\n\u001b[1;32m    808\u001b[0m \u001b[43m    \u001b[49m\u001b[43msample_weight\u001b[49m\u001b[43m,\u001b[49m\n\u001b[1;32m    809\u001b[0m \u001b[43m    \u001b[49m\u001b[43mcenters\u001b[49m\u001b[43m,\u001b[49m\n\u001b[1;32m    810\u001b[0m \u001b[43m    \u001b[49m\u001b[43mcenters_new\u001b[49m\u001b[38;5;241;43m=\u001b[39;49m\u001b[38;5;28;43;01mNone\u001b[39;49;00m\u001b[43m,\u001b[49m\n\u001b[1;32m    811\u001b[0m \u001b[43m    \u001b[49m\u001b[43mweight_in_clusters\u001b[49m\u001b[38;5;241;43m=\u001b[39;49m\u001b[38;5;28;43;01mNone\u001b[39;49;00m\u001b[43m,\u001b[49m\n\u001b[1;32m    812\u001b[0m \u001b[43m    \u001b[49m\u001b[43mlabels\u001b[49m\u001b[38;5;241;43m=\u001b[39;49m\u001b[43mlabels\u001b[49m\u001b[43m,\u001b[49m\n\u001b[1;32m    813\u001b[0m \u001b[43m    \u001b[49m\u001b[43mcenter_shift\u001b[49m\u001b[38;5;241;43m=\u001b[39;49m\u001b[43mcenter_shift\u001b[49m\u001b[43m,\u001b[49m\n\u001b[1;32m    814\u001b[0m \u001b[43m    \u001b[49m\u001b[43mn_threads\u001b[49m\u001b[38;5;241;43m=\u001b[39;49m\u001b[43mn_threads\u001b[49m\u001b[43m,\u001b[49m\n\u001b[1;32m    815\u001b[0m \u001b[43m    \u001b[49m\u001b[43mupdate_centers\u001b[49m\u001b[38;5;241;43m=\u001b[39;49m\u001b[38;5;28;43;01mFalse\u001b[39;49;00m\u001b[43m,\u001b[49m\n\u001b[1;32m    816\u001b[0m \u001b[43m\u001b[49m\u001b[43m)\u001b[49m\n\u001b[1;32m    818\u001b[0m \u001b[38;5;28;01mif\u001b[39;00m return_inertia:\n\u001b[1;32m    819\u001b[0m     inertia \u001b[38;5;241m=\u001b[39m _inertia(X, sample_weight, centers, labels, n_threads)\n",
      "File \u001b[0;32m_k_means_lloyd.pyx:26\u001b[0m, in \u001b[0;36msklearn.cluster._k_means_lloyd.lloyd_iter_chunked_dense\u001b[0;34m()\u001b[0m\n",
      "\u001b[0;31mValueError\u001b[0m: Buffer dtype mismatch, expected 'const float' but got 'double'"
     ]
    },
    {
     "data": {
      "image/png": "[encoded data removed]",
      "text/plain": [
       "<Figure size 640x480 with 1 Axes>"
      ]
     },
     "metadata": {},
     "output_type": "display_data"
    }
   ],
   "source": [
    "# print example train data\n",
    "image = trainDataset[0][0].numpy().squeeze(0)\n",
    "label = trainDataset[0][1]\n",
    "plt.title(f\"Label: {label}\")\n",
    "plt.imshow(image, cmap='gray')\n",
    "\n",
    "descriptors = siftFeatureDetector(image)\n",
    "vector = descriptors_to_vector(descriptors, k_means, k_clusters)\n",
    "# print(vector)"
   ]
  },
  {
   "cell_type": "code",
   "execution_count": null,
   "metadata": {},
   "outputs": [],
   "source": [
    "#  1.3 Document how you constructed the final feature vector (feature dimensionality, etc.).\n",
    "train_vectors = []\n",
    "train_labels = []\n",
    "for image, label in tqdm(trainDataset, desc=\"Processing Batches\", unit=\"batch\"):\n",
    "    image = image.numpy().squeeze(0)\n",
    "    descriptors = siftFeatureDetector(image)\n",
    "    train_labels.append(label)\n",
    "    for descriptor in descriptors:\n",
    "        train_vectors.append(descriptors_to_vector(descriptor, k_means, k_clusters))\n",
    "    \n",
    "    train_vectors.append(descriptors_to_vector(descriptors, k_means, k_clusters))\n",
    "    # train_vectors.append(descriptors_to_vector(item, k_means, k_clusters))\n",
    "\n",
    "test_vectors = []\n",
    "# for item in test_descriptors:\n",
    "# test_vectors.append(descriptors_to_vector(item, k_means, k_clusters))\n",
    "\n",
    "# 2. MLP Training\n",
    "#  2.1 MLP architecture: Use up to two hidden layers. Define the number of neurons in each layer (layer size).\n",
    "#  2.2 Hyperparameter Tuning: See the next section for the list of hyperparameters to experiment with.\n",
    "#  2.3 Train on the training set, evaluate on both training and testing sets.\n",
    "# 3. Accuracy Reporting\n",
    "#  3.1 Report and compare the training vs. testing accuracy for each experiment."
   ]
  },
  {
   "cell_type": "code",
   "execution_count": null,
   "metadata": {},
   "outputs": [],
   "source": [
    "\n",
    "# descriptors may be of different lengths, so we need to pad them\n",
    "# get the maximum length of the descriptors\n",
    "maxLength = 0\n",
    "maxIdx = 0\n",
    "for (i, descriptor) in enumerate(train_descriptors):\n",
    "    if type(descriptor) == type(None):\n",
    "        continue\n",
    "    if len(descriptor) > maxLength:\n",
    "        maxLength = len(descriptor)\n",
    "        maxIdx = i\n",
    "# max_length = max([len(descriptor) for descriptor in train_descriptors])\n",
    "print(f\"Max length of descriptors: {maxLength}\")\n",
    "\n",
    "# print the descriptor at the max index\n",
    "print(train_descriptors[maxIdx])\n",
    "\n",
    "# create model\n",
    "model = Task1_MLP()"
   ]
  },
  {
   "cell_type": "code",
   "execution_count": null,
   "metadata": {},
   "outputs": [],
   "source": [
    "# convert 28*28 image to 784-dim vector\n",
    "def imageToVector(image):\n",
    "    return image.view(-1, 28 * 28)\n",
    "\n",
    "# train the model\n",
    "model = Task1_MLP().to(device)\n",
    "\n",
    "# define loss function and optimizer\n",
    "criterion = nn.CrossEntropyLoss()\n",
    "optimizer = torch.optim.Adam(model.parameters(), lr=0.001)\n",
    "\n",
    "# train the model\n",
    "num_epochs = 50\n",
    "batch_size = 600\n",
    "train_loader = torch.utils.data.DataLoader(\n",
    "    trainDataset, batch_size=batch_size, shuffle=True)\n",
    "\n",
    "for epoch in range(num_epochs):\n",
    "    loop = tqdm(enumerate(train_loader), total=len(\n",
    "        train_loader), desc=f\"Epoch {epoch+1}/{num_epochs}\")\n",
    "\n",
    "    for i, (images, labels) in loop:\n",
    "        images = images.to(device)\n",
    "        labels = labels.to(device)\n",
    "\n",
    "        # forward pass\n",
    "        outputs = model(imageToVector(images))\n",
    "        loss = criterion(outputs, labels)\n",
    "\n",
    "        # backward pass and optimize\n",
    "        optimizer.zero_grad()\n",
    "        loss.backward()\n",
    "        optimizer.step()\n",
    "\n",
    "        if (i + 1) == loop.total:\n",
    "            print(\n",
    "                f'Epoch [{epoch + 1}/{num_epochs}], Step [{i + 1}/{len(train_loader)}], Loss: {loss.item()}')"
   ]
  }
 ],
 "metadata": {
  "kernelspec": {
   "display_name": "assignment_1",
   "language": "python",
   "name": "python3"
  },
  "language_info": {
   "codemirror_mode": {
    "name": "ipython",
    "version": 3
   },
   "file_extension": ".py",
   "mimetype": "text/x-python",
   "name": "python",
   "nbconvert_exporter": "python",
   "pygments_lexer": "ipython3",
   "version": "3.11.11"
  }
 },
 "nbformat": 4,
 "nbformat_minor": 2
}
